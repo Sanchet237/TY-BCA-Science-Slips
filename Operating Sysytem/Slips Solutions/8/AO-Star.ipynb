{
 "cells": [
  {
   "cell_type": "markdown",
   "id": "ca3a2c63",
   "metadata": {},
   "source": [
    "*Q.2 Implement AO`*` algorithm in C /python for following graph and find out minimum cost solution.*"
   ]
  },
  {
   "cell_type": "code",
   "execution_count": null,
   "id": "be5c3380",
   "metadata": {},
   "outputs": [
    {
     "name": "stdout",
     "output_type": "stream",
     "text": [
      "Minimum cost: 9\n",
      "Best Cost Effective Path: A -> D -> F\n"
     ]
    }
   ],
   "source": [
    "# 1. Define the graph data\n",
    "heuristics = {\n",
    "    'A': 8, 'B': 1, 'C': 2, 'D': 8, 'E': 1, 'F': 0\n",
    "}\n",
    "\n",
    "costs = {\n",
    "    ('A', 'B'): 4, ('A', 'C'): 5, ('A', 'D'): 5, ('B', 'C'): 2,\n",
    "    ('C', 'E'): 2, ('D', 'E'): 2, ('D', 'F'): 4, ('E', 'F'): 3\n",
    "}\n",
    "\n",
    "graph = {\n",
    "    'A': {'AND': [('B', 'C')], 'OR': ['D']},\n",
    "    'B': {'OR': ['C']},\n",
    "    'C': {'OR': ['E']},\n",
    "    'D': {'OR': ['E', 'F']},\n",
    "    'E': {'OR': ['F']},\n",
    "    'F': {}\n",
    "}\n",
    "\n",
    "# 2. Dictionaries to store solution \n",
    "cost = {}\n",
    "solution_path = {}\n",
    "\n",
    "# 3. AO* recursive solver\n",
    "def solve(node):\n",
    "    if node not in cost:\n",
    "        min_c = float('inf')\n",
    "        best_group = None\n",
    "\n",
    "        for type, groups in graph.get(node, {}).items():\n",
    "            # For OR: treat each child as a separate group\n",
    "            # For AND: take the full group\n",
    "            possible_groups = groups if type == 'AND' else [[child] for child in groups]\n",
    "\n",
    "            for group in possible_groups:\n",
    "                current_c = 0\n",
    "                for child in group:\n",
    "                    solve(child)\n",
    "                    current_c += costs.get((node, child), 0) + cost[child]\n",
    "\n",
    "                if current_c < min_c:\n",
    "                    min_c = current_c\n",
    "                    best_group = tuple(group)\n",
    "\n",
    "        # If node has children, use computed min cost\n",
    "        # If leaf node, fallback to heuristic\n",
    "        cost[node] = min_c if best_group is not None else heuristics.get(node, float('inf'))\n",
    "        solution_path[node] = best_group\n",
    "\n",
    "# 4. Function to expand solution path properly (handles AND nodes) \n",
    "def expand_solution(node):\n",
    "    if node not in solution_path or solution_path[node] is None:\n",
    "        return [node]\n",
    "\n",
    "    children = solution_path[node]\n",
    "    path = [node]\n",
    "\n",
    "    for child in children:\n",
    "        path.extend(expand_solution(child))\n",
    "\n",
    "    return path\n",
    "\n",
    "# 5. Run AO* \n",
    "start_node = 'A'\n",
    "solve(start_node)\n",
    "\n",
    "final_cost = cost[start_node]\n",
    "final_path = expand_solution(start_node)\n",
    "\n",
    "print(f\"Minimum cost: {final_cost}\")\n",
    "print(f\"Best Cost Effective Path: {' -> '.join(final_path)}\")\n"
   ]
  }
 ],
 "metadata": {
  "kernelspec": {
   "display_name": "base",
   "language": "python",
   "name": "python3"
  },
  "language_info": {
   "codemirror_mode": {
    "name": "ipython",
    "version": 3
   },
   "file_extension": ".py",
   "mimetype": "text/x-python",
   "name": "python",
   "nbconvert_exporter": "python",
   "pygments_lexer": "ipython3",
   "version": "3.13.5"
  }
 },
 "nbformat": 4,
 "nbformat_minor": 5
}
