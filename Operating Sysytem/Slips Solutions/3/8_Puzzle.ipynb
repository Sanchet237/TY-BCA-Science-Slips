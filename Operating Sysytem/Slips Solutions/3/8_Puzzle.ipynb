{
 "cells": [
  {
   "cell_type": "markdown",
   "id": "6a840e9a",
   "metadata": {},
   "source": [
    "Q.2 Given an initial state of a 8-puzzle problem and final state to be reached\n",
    "```\n",
    " Initial State:       Final State:\n",
    " +---+---+---+         +---+---+---+\n",
    " | 2 | 8 | 3 |         | 1 | 2 | 3 |\n",
    " +---+---+---+         +---+---+---+\n",
    " | 1 | 6 | 4 |         | 8 |   | 4 |\n",
    " +---+---+---+         +---+---+---+\n",
    " | 7 |   | 5 |         | 7 | 6 | 5 |\n",
    " +---+---+---+         +---+---+---+\n",
    "```\n",
    " Find the most cost-effective path to reach the final state from initial\n",
    " state using A* Algorithm in C/Python.\n",
    " [20 marks]"
   ]
  },
  {
   "cell_type": "code",
   "execution_count": 1,
   "id": "6c1b2d31",
   "metadata": {},
   "outputs": [
    {
     "name": "stdout",
     "output_type": "stream",
     "text": [
      "Number of moves: 5 \n",
      "\n",
      "-*-*-*-*-*- Cost Effective Path -*-*-*-*-*-\n",
      "\n",
      "Start:\n",
      "(2, 8, 3)\n",
      "(1, 6, 4)\n",
      "(7, 0, 5)\n",
      "\n",
      "Move 1:\n",
      "(2, 8, 3)\n",
      "(1, 0, 4)\n",
      "(7, 6, 5)\n",
      "\n",
      "Move 2:\n",
      "(2, 0, 3)\n",
      "(1, 8, 4)\n",
      "(7, 6, 5)\n",
      "\n",
      "Move 3:\n",
      "(0, 2, 3)\n",
      "(1, 8, 4)\n",
      "(7, 6, 5)\n",
      "\n",
      "Move 4:\n",
      "(1, 2, 3)\n",
      "(0, 8, 4)\n",
      "(7, 6, 5)\n",
      "\n",
      "Move 5:\n",
      "(1, 2, 3)\n",
      "(8, 0, 4)\n",
      "(7, 6, 5)\n",
      "\n"
     ]
    }
   ],
   "source": [
    "import heapq\n",
    "\n",
    "start = ((2,8,3),(1,6,4),(7,0,5))\n",
    "goal  = ((1,2,3),(8,0,4),(7,6,5))\n",
    "dirs  = [(-1,0),(1,0),(0,-1),(0,1)]\n",
    "\n",
    "def h(state):\n",
    "    return sum(state[i][j] != 0 and state[i][j] != goal[i][j]\n",
    "               for i in range(3) for j in range(3))\n",
    "\n",
    "def neighbors(s):\n",
    "    x,y = next((i,j) for i in range(3) for j in range(3) if s[i][j]==0)\n",
    "    arr = [list(r) for r in s]\n",
    "    for dx,dy in dirs:\n",
    "        nx,ny=x+dx,y+dy\n",
    "        if 0<=nx<3 and 0<=ny<3:\n",
    "            new=[row[:] for row in arr]\n",
    "            new[x][y],new[nx][ny]=new[nx][ny],new[x][y]\n",
    "            yield tuple(map(tuple,new))\n",
    "\n",
    "def astar(start):\n",
    "    pq=[(h(start),0,start,[start])]\n",
    "    seen=set()\n",
    "    while pq:\n",
    "        f,g,s,path=heapq.heappop(pq)\n",
    "        if s==goal: return path\n",
    "        if s in seen: continue\n",
    "        seen.add(s)\n",
    "        for n in neighbors(s):\n",
    "            heapq.heappush(pq,(g+1+h(n),g+1,n,path+[n]))\n",
    "\n",
    "boards = astar(start)\n",
    "print(\"Number of moves:\", len(boards)-1,\"\\n\")\n",
    "print(\"-*-*-*-*-*- Cost Effective Path -*-*-*-*-*-\\n\")\n",
    "for i,b in enumerate(boards):\n",
    "    print(\"Start:\" if i==0 else f\"Move {i}:\")\n",
    "    for row in b: print(row)\n",
    "    print()"
   ]
  }
 ],
 "metadata": {
  "kernelspec": {
   "display_name": "base",
   "language": "python",
   "name": "python3"
  },
  "language_info": {
   "codemirror_mode": {
    "name": "ipython",
    "version": 3
   },
   "file_extension": ".py",
   "mimetype": "text/x-python",
   "name": "python",
   "nbconvert_exporter": "python",
   "pygments_lexer": "ipython3",
   "version": "3.13.5"
  }
 },
 "nbformat": 4,
 "nbformat_minor": 5
}
