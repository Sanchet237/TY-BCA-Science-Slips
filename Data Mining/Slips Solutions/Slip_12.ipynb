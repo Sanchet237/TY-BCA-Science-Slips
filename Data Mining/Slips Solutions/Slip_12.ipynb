{
  "cells": [
    {
      "cell_type": "markdown",
      "id": "6de2830e",
      "metadata": {
        "id": "6de2830e"
      },
      "source": [
        "# **Slip 12 - Data Mining**\n"
      ]
    },
    {
      "cell_type": "markdown",
      "id": "078775af",
      "metadata": {
        "id": "078775af"
      },
      "source": [
        "Q1. Write a R program to create a Dataframes which contain details of 5employees and\n",
        "display the details.\n",
        "Employee contain (empno,empname,gender,age,designation)\n",
        "[10 Marks]"
      ]
    },
    {
      "cell_type": "code",
      "execution_count": null,
      "id": "0eae977e",
      "metadata": {
        "colab": {
          "base_uri": "https://localhost:8080/"
        },
        "id": "0eae977e",
        "outputId": "570c5c88-b14a-492b-e460-8eb2fec46f8d"
      },
      "outputs": [
        {
          "name": "stdout",
          "output_type": "stream",
          "text": [
            "Employee Details:\n",
            "  EmpNo EmpName Gender Age Designation\n",
            "1     1 Sanchet      M  22   Developer\n",
            "2     2  Gaurav      M  22     Manager\n",
            "3     3 Ajinkya      M  20      Tester\n",
            "4     4   Rahil      M  21     Analyst\n",
            "5     5  Pranav      M  21    Designer\n"
          ]
        }
      ],
      "source": [
        "emp <- data.frame(\n",
        "  EmpNo = 1:5,\n",
        "  EmpName = c(\"Sanchet\", \"Gaurav\", \"Ajinkya\", \"Rahil\", \"Pranav\"),\n",
        "  Gender = c(\"M\", \"M\", \"M\", \"M\", \"M\"),\n",
        "  Age = c(22, 22, 20, 21, 21),\n",
        "  Designation = c(\"Developer\", \"Manager\", \"Tester\", \"Analyst\", \"Designer\")\n",
        ")\n",
        "cat(\"Employee Details:\\n\")\n",
        "print(emp)"
      ]
    },
    {
      "cell_type": "markdown",
      "id": "9bf101e2",
      "metadata": {
        "id": "9bf101e2"
      },
      "source": [
        "*Q2. Write a python program to implement multiple Linear Regression modelfor a car dataset.\n",
        "Dataset can be downloaded from:\n",
        "https://www.w3schools.com/python/python_ml_multiple_regression.asp\n",
        "[20 Marks]*"
      ]
    },
    {
      "cell_type": "code",
      "execution_count": 1,
      "id": "babfb5d5",
      "metadata": {},
      "outputs": [
        {
          "name": "stdout",
          "output_type": "stream",
          "text": [
            "Intercept: 13.297619047619122\n",
            "Coefficients: [0.03595238 0.03595238]\n",
            "MSE: 1.24702380952381\n",
            "R2: 0.9954269124564793\n"
          ]
        }
      ],
      "source": [
        "import pandas as pd\n",
        "from sklearn.linear_model import LinearRegression\n",
        "from sklearn.metrics import mean_squared_error, r2_score\n",
        "\n",
        "df = pd.read_csv(\"Slip12.csv\")\n",
        "X = df[['Weight', 'Volume']]\n",
        "y = df['CO2']\n",
        "\n",
        "lr = LinearRegression()\n",
        "lr.fit(X, y)\n",
        "\n",
        "print(\"Intercept:\", lr.intercept_)\n",
        "print(\"Coefficients:\", lr.coef_)\n",
        "\n",
        "y_pred = lr.predict(X)\n",
        "print(\"MSE:\", mean_squared_error(y, y_pred))\n",
        "print(\"R2:\", r2_score(y, y_pred))\n"
      ]
    }
  ],
  "metadata": {
    "colab": {
      "provenance": []
    },
    "kernelspec": {
      "display_name": "base",
      "language": "python",
      "name": "python3"
    },
    "language_info": {
      "codemirror_mode": {
        "name": "ipython",
        "version": 3
      },
      "file_extension": ".py",
      "mimetype": "text/x-python",
      "name": "python",
      "nbconvert_exporter": "python",
      "pygments_lexer": "ipython3",
      "version": "3.13.5"
    }
  },
  "nbformat": 4,
  "nbformat_minor": 5
}
