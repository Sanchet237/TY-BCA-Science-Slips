{
  "cells": [
    {
      "cell_type": "markdown",
      "id": "6f29a38a",
      "metadata": {
        "id": "6f29a38a"
      },
      "source": [
        "# **Slip 04 - Data Mining**\n"
      ]
    },
    {
      "cell_type": "markdown",
      "id": "a98150da",
      "metadata": {
        "id": "a98150da"
      },
      "source": [
        "*Q1. Write a R program to calculate the sum of two matrices of given size.         [10 Marks]*"
      ]
    },
    {
      "cell_type": "code",
      "execution_count": null,
      "id": "b958983f",
      "metadata": {
        "colab": {
          "base_uri": "https://localhost:8080/"
        },
        "id": "b958983f",
        "outputId": "37bbf70a-63fd-4b90-d6c6-1afc5da9645a"
      },
      "outputs": [
        {
          "name": "stdout",
          "output_type": "stream",
          "text": [
            "\n",
            "First Matrix:\n",
            "     [,1] [,2] [,3]\n",
            "[1,]    1    2    3\n",
            "[2,]    4    5    6\n",
            "\n",
            "Second Matrix:\n",
            "     [,1] [,2] [,3]\n",
            "[1,]    6    5    4\n",
            "[2,]    3    2    1\n",
            "\n",
            "Sum of Matrices:\n",
            "     [,1] [,2] [,3]\n",
            "[1,]    7    7    7\n",
            "[2,]    7    7    7\n"
          ]
        }
      ],
      "source": [
        "m1 <- matrix(c(1, 2, 3, 4, 5, 6), nrow = 2, ncol = 3, byrow = TRUE)\n",
        "m2 <- matrix(c(6, 5, 4, 3, 2, 1), nrow = 2, ncol = 3, byrow = TRUE)\n",
        "\n",
        "cat(\"\\nFirst Matrix:\\n\")\n",
        "print(m1)\n",
        "cat(\"\\nSecond Matrix:\\n\")\n",
        "print(m2)\n",
        "cat(\"\\nSum of Matrices:\\n\")\n",
        "print(m1 + m2)"
      ]
    },
    {
      "cell_type": "markdown",
      "id": "5ffcbd57",
      "metadata": {
        "id": "5ffcbd57"
      },
      "source": [
        "*Q2. Co*nsider the following dataset:\n",
        "\n",
        "```python\n",
        "weather = ['Sunny','Sunny','Overcast','Rainy','Rainy','Rainy','Overcast','Sunny','Sunny',\n",
        "           'Rainy','Sunny','Overcast','Overcast','Rainy']\n",
        "\n",
        "temp = ['Hot','Hot','Hot','Mild','Cool','Cool','Cool','Mild','Cool',\n",
        "        'Mild','Mild','Mild','Hot','Mild']\n",
        "\n",
        "play = ['No','No','Yes','Yes','Yes','No','Yes','No','Yes','Yes',\n",
        "        'Yes','Yes','Yes','No']\n",
        "\n",
        "\n",
        "Use Naïve Bayes algorithm to predict [0: Overcast, 2: Mild] tuple belongs to which class \n",
        "whether to play the sports or not.\n"
      ]
    },
    {
      "cell_type": "code",
      "execution_count": null,
      "id": "f4a0c58d",
      "metadata": {
        "id": "f4a0c58d"
      },
      "outputs": [
        {
          "name": "stdout",
          "output_type": "stream",
          "text": [
            "Prediction Value:  [1]\n"
          ]
        }
      ],
      "source": [
        "from sklearn.preprocessing import LabelEncoder\n",
        "from sklearn.naive_bayes import GaussianNB\n",
        "\n",
        "weather = ['Sunny', 'Sunny', 'Overcast', 'Rainy', 'Rainy', 'Rainy', 'Overcast', 'Sunny', 'Sunny', 'Rainy', 'Sunny', 'Overcast', 'Overcast', 'Rainy']\n",
        "temp = ['Hot', 'Hot', 'Hot', 'Mild', 'Cool', 'Cool', 'Cool', 'Mild', 'Cool', 'Mild', 'Mild', 'Mild', 'Hot', 'Mild']\n",
        "play = ['No','No','Yes','Yes','Yes','No','Yes','No','Yes','Yes','Yes','Yes','Yes','No']\n",
        "\n",
        "LE = LabelEncoder()\n",
        "w = LE.fit_transform(weather)\n",
        "t = LE.fit_transform(temp)\n",
        "p = LE.fit_transform(play)\n",
        "\n",
        "X = list(zip(w, t))\n",
        "Y = p\n",
        "\n",
        "classifier = GaussianNB()\n",
        "classifier.fit(X, Y)\n",
        "\n",
        "y_pred = classifier.predict([[0, 2]])\n",
        "\n",
        "print(\"Prediction Value: \", y_pred)\n"
      ]
    }
  ],
  "metadata": {
    "colab": {
      "provenance": []
    },
    "kernelspec": {
      "display_name": "base",
      "language": "python",
      "name": "python3"
    },
    "language_info": {
      "codemirror_mode": {
        "name": "ipython",
        "version": 3
      },
      "file_extension": ".py",
      "mimetype": "text/x-python",
      "name": "python",
      "nbconvert_exporter": "python",
      "pygments_lexer": "ipython3",
      "version": "3.13.5"
    }
  },
  "nbformat": 4,
  "nbformat_minor": 5
}
