{
  "cells": [
    {
      "cell_type": "markdown",
      "id": "92a61b65",
      "metadata": {
        "id": "92a61b65"
      },
      "source": [
        "# **Slip 08 - Data Mining**\n"
      ]
    },
    {
      "cell_type": "markdown",
      "id": "9d64bdea",
      "metadata": {
        "id": "9d64bdea"
      },
      "source": [
        "*Q1. Write a R program to get the first 10 Fibonacci numbers. [10 Marks*"
      ]
    },
    {
      "cell_type": "code",
      "execution_count": null,
      "id": "20419c29",
      "metadata": {
        "colab": {
          "base_uri": "https://localhost:8080/"
        },
        "id": "20419c29",
        "outputId": "fd8183ff-b338-4482-b870-3f97c57d494e"
      },
      "outputs": [
        {
          "name": "stdout",
          "output_type": "stream",
          "text": [
            "Enter the range : 8\n",
            "First 8 Fibonacci Numbers: 0 1 1 2 3 5 8 13 \n"
          ]
        }
      ],
      "source": [
        "n <- as.integer(readline(\"Enter the range : \"))\n",
        "\n",
        "fib <- numeric(n)\n",
        "fib[1] <- 0\n",
        "fib[2] <- 1\n",
        "for(i in 3:n) {\n",
        "  fib[i] <- fib[i-1] + fib[i-2]\n",
        "}\n",
        "\n",
        "cat(\"First\", n, \"Fibonacci Numbers:\", fib, \"\\n\")"
      ]
    },
    {
      "cell_type": "markdown",
      "id": "550636a7",
      "metadata": {
        "id": "550636a7"
      },
      "source": [
        "*Q2. Write a python program to implement k-means algorithm to build prediction model (Use\n",
        "Credit Card Dataset CC GENERAL.csv Download from kaggle.com) [20 Marks]*"
      ]
    },
    {
      "cell_type": "code",
      "execution_count": 1,
      "id": "902d1c59",
      "metadata": {
        "id": "902d1c59"
      },
      "outputs": [
        {
          "name": "stdout",
          "output_type": "stream",
          "text": [
            "Cluster Centers:\n",
            " [[ 0.2410242   0.37597382  0.33021239]\n",
            " [ 1.3428491   1.20945796  1.25837695]\n",
            " [-1.13625693 -1.18227913 -1.16913036]]\n",
            "\n",
            "First 5 rows with cluster labels:\n",
            "    balance  purchases  payments  Cluster\n",
            "0      500        200       450        2\n",
            "1      600        250       500        2\n",
            "2      700        300       600        2\n",
            "3     1200        800      1000        0\n",
            "4     1500       1000      1300        0\n"
          ]
        },
        {
          "data": {
            "image/png": "[encoded data removed]",
            "text/plain": [
              "<Figure size 640x480 with 1 Axes>"
            ]
          },
          "metadata": {},
          "output_type": "display_data"
        }
      ],
      "source": [
        "import pandas as pd\n",
        "from sklearn.preprocessing import StandardScaler\n",
        "from sklearn.cluster import KMeans\n",
        "import matplotlib.pyplot as plt\n",
        "\n",
        "df = pd.read_csv(\"Slip8.csv\")  \n",
        "X = df[['balance', 'purchases', 'payments']]\n",
        "\n",
        "\n",
        "scaler = StandardScaler()\n",
        "X_scaled = scaler.fit_transform(X)\n",
        "\n",
        "kmeans = KMeans(n_clusters=3, n_init=10, random_state=1)\n",
        "labels = kmeans.fit_predict(X_scaled)\n",
        "\n",
        "df['Cluster'] = labels\n",
        "\n",
        "print(\"Cluster Centers:\\n\", kmeans.cluster_centers_)\n",
        "print(\"\\nFirst 5 rows with cluster labels:\\n\", df.head())\n",
        "\n",
        "plt.scatter(X['balance'], X['payments'], c=labels, cmap='viridis')\n",
        "plt.xlabel('Balance')\n",
        "plt.ylabel('Payments')\n",
        "plt.title('K-Means Clustering')\n",
        "plt.show()\n"
      ]
    }
  ],
  "metadata": {
    "colab": {
      "provenance": []
    },
    "kernelspec": {
      "display_name": "base",
      "language": "python",
      "name": "python3"
    },
    "language_info": {
      "codemirror_mode": {
        "name": "ipython",
        "version": 3
      },
      "file_extension": ".py",
      "mimetype": "text/x-python",
      "name": "python",
      "nbconvert_exporter": "python",
      "pygments_lexer": "ipython3",
      "version": "3.13.5"
    }
  },
  "nbformat": 4,
  "nbformat_minor": 5
}
