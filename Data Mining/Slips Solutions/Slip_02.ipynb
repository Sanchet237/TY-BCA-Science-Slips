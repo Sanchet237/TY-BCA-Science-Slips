{
  "cells": [
    {
      "cell_type": "markdown",
      "id": "21cbd79b",
      "metadata": {
        "id": "21cbd79b"
      },
      "source": [
        "# **Slip 02 - Data Mining**\n"
      ]
    },
    {
      "cell_type": "markdown",
      "id": "a51d1846",
      "metadata": {
        "id": "a51d1846"
      },
      "source": [
        "*Q1. Write an R program to calculate the multiplication table using a function.[10 Marks]*"
      ]
    },
    {
      "cell_type": "code",
      "execution_count": null,
      "id": "208e1d52",
      "metadata": {
        "colab": {
          "base_uri": "https://localhost:8080/"
        },
        "id": "208e1d52",
        "outputId": "0a60dd17-93a0-4cbb-8893-2d75ad06fc1c"
      },
      "outputs": [
        {
          "name": "stdout",
          "output_type": "stream",
          "text": [
            "Enter a number for multiplication table: 7\n",
            "Multiplication Table for 7 \n",
            "7 x 1 = 7 \n",
            "7 x 2 = 14 \n",
            "7 x 3 = 21 \n",
            "7 x 4 = 28 \n",
            "7 x 5 = 35 \n",
            "7 x 6 = 42 \n",
            "7 x 7 = 49 \n",
            "7 x 8 = 56 \n",
            "7 x 9 = 63 \n",
            "7 x 10 = 70 \n"
          ]
        }
      ],
      "source": [
        "multi_tab <- function(n) {\n",
        "  cat(\"Multiplication Table for\", n, \"\\n\")\n",
        "  for(i in 1:10) {\n",
        "    cat(n, \"x\", i, \"=\", n * i, \"\\n\")\n",
        "  }\n",
        "}\n",
        "\n",
        "num <- as.integer(readline(\"Enter a number for multiplication table: \"))\n",
        "multi_tab(num)"
      ]
    },
    {
      "cell_type": "markdown",
      "id": "d6f7c8a0",
      "metadata": {
        "id": "d6f7c8a0"
      },
      "source": [
        "\n",
        "*Q2. Write a python program to implement k-means algorithms on a synthetic dataset. [20 Marks]*"
      ]
    },
    {
      "cell_type": "code",
      "execution_count": 2,
      "id": "8ed1a9b2",
      "metadata": {
        "id": "8ed1a9b2"
      },
      "outputs": [
        {
          "data": {
            "image/png": "[encoded data removed]",
            "text/plain": [
              "<Figure size 640x480 with 1 Axes>"
            ]
          },
          "metadata": {},
          "output_type": "display_data"
        }
      ],
      "source": [
        "import pandas as pd\n",
        "from sklearn.datasets import make_blobs\n",
        "from sklearn.cluster import KMeans\n",
        "import matplotlib.pyplot as plt\n",
        "\n",
        "X, _ = make_blobs(n_samples=50, centers=3, n_features=2, random_state=1)\n",
        "df = pd.DataFrame(X, columns=[\"x\",\"y\"])\n",
        "\n",
        "kmeans = KMeans(n_clusters=3, random_state=1)\n",
        "df['cluster'] = kmeans.fit_predict(df)\n",
        "\n",
        "plt.scatter(df['x'], df['y'], c=df['cluster'])\n",
        "plt.scatter(kmeans.cluster_centers_[:,0], kmeans.cluster_centers_[:,1], color='red')\n",
        "plt.show()\n"
      ]
    }
  ],
  "metadata": {
    "colab": {
      "provenance": []
    },
    "kernelspec": {
      "display_name": "base",
      "language": "python",
      "name": "python3"
    },
    "language_info": {
      "codemirror_mode": {
        "name": "ipython",
        "version": 3
      },
      "file_extension": ".py",
      "mimetype": "text/x-python",
      "name": "python",
      "nbconvert_exporter": "python",
      "pygments_lexer": "ipython3",
      "version": "3.13.5"
    }
  },
  "nbformat": 4,
  "nbformat_minor": 5
}
