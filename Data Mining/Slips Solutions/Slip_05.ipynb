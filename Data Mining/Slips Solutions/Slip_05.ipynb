{
  "cells": [
    {
      "cell_type": "markdown",
      "id": "511a6c97",
      "metadata": {
        "id": "511a6c97"
      },
      "source": [
        "# **Slip 05 - Data Mining**\n"
      ]
    },
    {
      "cell_type": "markdown",
      "id": "c9cb4246",
      "metadata": {
        "id": "c9cb4246"
      },
      "source": [
        "\n",
        "*Q1. Write a R program to concatenate two given factors. [10 Marks]*"
      ]
    },
    {
      "cell_type": "code",
      "execution_count": null,
      "id": "2079057e",
      "metadata": {
        "colab": {
          "base_uri": "https://localhost:8080/"
        },
        "id": "2079057e",
        "outputId": "22dd3dc6-2f26-493d-93e8-9d98eb42b015"
      },
      "outputs": [
        {
          "name": "stdout",
          "output_type": "stream",
          "text": [
            "Concatenated Factor: Pune Mumbai Delhi Chennai Kolkata \n"
          ]
        }
      ],
      "source": [
        "f1 <- factor(c(\"Pune\", \"Mumbai\", \"Delhi\"))\n",
        "f2 <- factor(c(\"Chennai\", \"Kolkata\"))\n",
        "\n",
        "cat(\"Concatenated Factor:\", c(as.character(f1), as.character(f2)), \"\\n\")\n"
      ]
    },
    {
      "cell_type": "markdown",
      "id": "301792b5",
      "metadata": {
        "id": "301792b5"
      },
      "source": [
        "*Q2. Write a Python program build Decision Tree Classifier using Scikit- learn package for\n",
        "diabetes data set (download database from https://www.kaggle.com/uciml/pima\n",
        "indians-diabetes-database)\n",
        "[20 Marks]*"
      ]
    },
    {
      "cell_type": "code",
      "execution_count": 4,
      "id": "62c49ab9",
      "metadata": {
        "id": "62c49ab9"
      },
      "outputs": [
        {
          "name": "stdout",
          "output_type": "stream",
          "text": [
            "First 5 rows of the dataset:\n",
            "   Glucose  BMI  Age  Outcome\n",
            "0       85   22   21        0\n",
            "1       89   24   25        0\n",
            "2       95   26   29        0\n",
            "3      105   28   33        0\n",
            "4      120   30   37        1\n",
            "\n",
            "Model Accuracy: 1.0\n",
            "\n",
            "Confusion Matrix:\n",
            " [[1 0]\n",
            " [0 1]]\n",
            "\n",
            "Classification Report:\n",
            "               precision    recall  f1-score   support\n",
            "\n",
            "           0       1.00      1.00      1.00         1\n",
            "           1       1.00      1.00      1.00         1\n",
            "\n",
            "    accuracy                           1.00         2\n",
            "   macro avg       1.00      1.00      1.00         2\n",
            "weighted avg       1.00      1.00      1.00         2\n",
            "\n"
          ]
        }
      ],
      "source": [
        "import numpy as np\n",
        "import pandas as pd\n",
        "from sklearn.model_selection import train_test_split\n",
        "from sklearn.tree import DecisionTreeClassifier\n",
        "from sklearn.metrics import accuracy_score, classification_report, confusion_matrix\n",
        "\n",
        "df = pd.read_csv(\"Slip5.csv\") \n",
        "\n",
        "print(\"First 5 rows of the dataset:\")\n",
        "print(df.head())\n",
        "\n",
        "X = df.drop('Outcome', axis=1)  \n",
        "y = df['Outcome']               \n",
        "\n",
        "X_train, X_test, y_train, y_test = train_test_split(X, y, test_size=0.2, random_state=42)\n",
        "\n",
        "clf = DecisionTreeClassifier(criterion='entropy', random_state=42)\n",
        "clf.fit(X_train, y_train)\n",
        "\n",
        "\n",
        "y_pred = clf.predict(X_test)\n",
        "\n",
        "print(\"\\nModel Accuracy:\", accuracy_score(y_test, y_pred))\n",
        "print(\"\\nConfusion Matrix:\\n\", confusion_matrix(y_test, y_pred))\n",
        "print(\"\\nClassification Report:\\n\", classification_report(y_test, y_pred))\n"
      ]
    }
  ],
  "metadata": {
    "colab": {
      "provenance": []
    },
    "kernelspec": {
      "display_name": "base",
      "language": "python",
      "name": "python3"
    },
    "language_info": {
      "codemirror_mode": {
        "name": "ipython",
        "version": 3
      },
      "file_extension": ".py",
      "mimetype": "text/x-python",
      "name": "python",
      "nbconvert_exporter": "python",
      "pygments_lexer": "ipython3",
      "version": "3.13.5"
    }
  },
  "nbformat": 4,
  "nbformat_minor": 5
}
