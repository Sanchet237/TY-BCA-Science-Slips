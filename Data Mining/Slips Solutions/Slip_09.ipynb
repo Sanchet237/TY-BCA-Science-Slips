{
  "cells": [
    {
      "cell_type": "markdown",
      "id": "1019664b",
      "metadata": {
        "id": "1019664b"
      },
      "source": [
        "# **Slip 09 - Data Mining**\n"
      ]
    },
    {
      "cell_type": "markdown",
      "id": "b7e9fd83",
      "metadata": {
        "id": "b7e9fd83"
      },
      "source": [
        "*Q1. Write an R program to create a Data frames which contain details of 5 employees and display\n",
        "summary of the data. [10 Marks]*"
      ]
    },
    {
      "cell_type": "code",
      "execution_count": null,
      "id": "d2f8766a",
      "metadata": {
        "colab": {
          "base_uri": "https://localhost:8080/"
        },
        "id": "d2f8766a",
        "outputId": "7773794b-6626-48a6-c415-8c834ab9ed5c"
      },
      "outputs": [
        {
          "name": "stdout",
          "output_type": "stream",
          "text": [
            "\n",
            "Employee Data:\n",
            "  EmpNo    Name Age Salary\n",
            "1     1 Sanchet  21  50000\n",
            "2     2  Gaurav  23  55000\n",
            "3     3 Ajinkya  22  52000\n",
            "4     4   Rahil  24  58000\n",
            "5     5  Pranav  25  60000\n",
            "\n",
            "\n",
            "Summary of Employee Data:\n",
            "     EmpNo       Name                Age         Salary     \n",
            " Min.   :1   Length:5           Min.   :21   Min.   :50000  \n",
            " 1st Qu.:2   Class :character   1st Qu.:22   1st Qu.:52000  \n",
            " Median :3   Mode  :character   Median :23   Median :55000  \n",
            " Mean   :3                      Mean   :23   Mean   :55000  \n",
            " 3rd Qu.:4                      3rd Qu.:24   3rd Qu.:58000  \n",
            " Max.   :5                      Max.   :25   Max.   :60000  \n"
          ]
        }
      ],
      "source": [
        "emp <- data.frame(\n",
        "  EmpNo = 1:5,\n",
        "  Name = c(\"Sanchet\", \"Gaurav\", \"Ajinkya\", \"Rahil\", \"Pranav\"),\n",
        "  Age = c(21, 23, 22, 24, 25),\n",
        "  Salary = c(50000, 55000, 52000, 58000, 60000)\n",
        ")\n",
        "cat(\"\\nEmployee Data:\\n\")\n",
        "print(emp)\n",
        "cat(\"\\n\\nSummary of Employee Data:\\n\")\n",
        "print(summary(emp))"
      ]
    },
    {
      "cell_type": "markdown",
      "id": "0cb1f1d2",
      "metadata": {
        "id": "0cb1f1d2"
      },
      "source": [
        "*Q2. Write a Python program to build an SVM model to Cancer dataset. The dataset is\n",
        "available in the scikit-learn library. Check the accuracyof model with precision and\n",
        "recall. [20 Marks]*"
      ]
    },
    {
      "cell_type": "code",
      "execution_count": 1,
      "id": "0b25bf2e",
      "metadata": {
        "id": "0b25bf2e"
      },
      "outputs": [
        {
          "name": "stdout",
          "output_type": "stream",
          "text": [
            "Accuracy: 0.956140350877193\n",
            "Precision: 0.9459459459459459\n",
            "Recall: 0.9859154929577465\n"
          ]
        }
      ],
      "source": [
        "from sklearn.datasets import load_breast_cancer\n",
        "from sklearn.model_selection import train_test_split\n",
        "from sklearn.svm import SVC\n",
        "from sklearn.metrics import accuracy_score, precision_score, recall_score\n",
        "\n",
        "data = load_breast_cancer()\n",
        "X = data.data\n",
        "y = data.target\n",
        "\n",
        "X_train, X_test, y_train, y_test = train_test_split(X, y, test_size=0.2, random_state=42)\n",
        "\n",
        "model = SVC(kernel='linear', random_state=42)\n",
        "model.fit(X_train, y_train)\n",
        "\n",
        "y_pred = model.predict(X_test)\n",
        "\n",
        "print(\"Accuracy:\", accuracy_score(y_test, y_pred))\n",
        "print(\"Precision:\", precision_score(y_test, y_pred))\n",
        "print(\"Recall:\", recall_score(y_test, y_pred))\n"
      ]
    }
  ],
  "metadata": {
    "colab": {
      "provenance": []
    },
    "kernelspec": {
      "display_name": "base",
      "language": "python",
      "name": "python3"
    },
    "language_info": {
      "codemirror_mode": {
        "name": "ipython",
        "version": 3
      },
      "file_extension": ".py",
      "mimetype": "text/x-python",
      "name": "python",
      "nbconvert_exporter": "python",
      "pygments_lexer": "ipython3",
      "version": "3.13.5"
    }
  },
  "nbformat": 4,
  "nbformat_minor": 5
}
