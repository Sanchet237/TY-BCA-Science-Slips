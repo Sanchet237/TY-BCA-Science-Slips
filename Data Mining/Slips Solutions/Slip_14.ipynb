{
  "cells": [
    {
      "cell_type": "markdown",
      "id": "def6a7d0",
      "metadata": {
        "id": "def6a7d0"
      },
      "source": [
        "# **Slip 14 - Data Mining**"
      ]
    },
    {
      "cell_type": "markdown",
      "id": "K1UeCWqOUCJ7",
      "metadata": {
        "id": "K1UeCWqOUCJ7"
      },
      "source": [
        "*Q1. Write a script in R to create a list of employees (name) and perform thefollowing:*\n",
        "\n",
        "*a. Display names of employees in the list.*\n",
        "\n",
        "*b. Add an employee at the end of the list*\n",
        "\n",
        "*c. Remove the third element of the list. [10 Marks]*"
      ]
    },
    {
      "cell_type": "code",
      "execution_count": null,
      "id": "f2ee313d",
      "metadata": {
        "colab": {
          "base_uri": "https://localhost:8080/"
        },
        "id": "f2ee313d",
        "outputId": "a6ce1da9-cfff-4af2-b2be-73be80cb0cec"
      },
      "outputs": [
        {
          "name": "stdout",
          "output_type": "stream",
          "text": [
            "\n",
            "Employees: Sanchet Gaurav Ajinkya Rahil Pranav \n",
            "\n",
            "After Adding Harsh: Sanchet Gaurav Ajinkya Rahil Pranav Harsh \n",
            "\n",
            "After Removing 3rd Employee: Sanchet Gaurav Rahil Pranav Harsh \n"
          ]
        }
      ],
      "source": [
        "employees <- list(\"Sanchet\", \"Gaurav\", \"Ajinkya\", \"Rahil\", \"Pranav\")\n",
        "cat(\"\\nEmployees:\", unlist(employees), \"\\n\")\n",
        "\n",
        "employees <- append(employees, \"Harsh\")\n",
        "cat(\"\\nAfter Adding Harsh:\", unlist(employees), \"\\n\")\n",
        "\n",
        "employees <- employees[-3]\n",
        "cat(\"\\nAfter Removing 3rd Employee:\", unlist(employees), \"\\n\")\n"
      ]
    },
    {
      "cell_type": "markdown",
      "id": "449b9f6f",
      "metadata": {
        "id": "449b9f6f"
      },
      "source": [
        "*Q2. Write a Python Programme to apply Apriori algorithm on Groceries dataset. Dataset\n",
        "can be downloaded from\n",
        "(https://github.com/amankharwal/Websitedata/blob/master/Groceries_dataset.csv).\n",
        "Also display support and confidence for each rule.\n",
        "[20 Marks]*"
      ]
    },
    {
      "cell_type": "code",
      "execution_count": 3,
      "id": "b5ff7b44",
      "metadata": {
        "id": "b5ff7b44"
      },
      "outputs": [
        {
          "name": "stdout",
          "output_type": "stream",
          "text": [
            "Frequent Itemsets:\n",
            "   support         itemsets\n",
            "0    0.750          (bread)\n",
            "1    0.500         (butter)\n",
            "2    0.500           (eggs)\n",
            "3    0.500           (milk)\n",
            "4    0.375  (butter, bread)\n",
            "5    0.375    (bread, eggs)\n",
            "6    0.500    (bread, milk)\n",
            "\n",
            "Rules with support and confidence:\n",
            "  antecedents consequents  support  confidence\n",
            "0    (butter)     (bread)    0.375        0.75\n",
            "1      (eggs)     (bread)    0.375        0.75\n",
            "2      (milk)     (bread)    0.500        1.00\n"
          ]
        }
      ],
      "source": [
        "import pandas as pd\n",
        "from mlxtend.preprocessing import TransactionEncoder\n",
        "from mlxtend.frequent_patterns import apriori, association_rules\n",
        "\n",
        "df = pd.read_csv(\"Slip14.csv\")\n",
        "trans = df['Items'].apply(lambda x: x.split(','))\n",
        "\n",
        "te = TransactionEncoder()\n",
        "data = te.fit(trans).transform(trans)\n",
        "df_encoded = pd.DataFrame(data, columns=te.columns_)\n",
        "\n",
        "freq_items = apriori(df_encoded, min_support=0.3, use_colnames=True)\n",
        "rules = association_rules(freq_items, metric=\"confidence\", min_threshold=0.7)\n",
        "\n",
        "print(\"Frequent Itemsets:\")\n",
        "print(freq_items)\n",
        "print(\"\\nRules with support and confidence:\")\n",
        "print(rules[['antecedents','consequents','support','confidence']])\n"
      ]
    },
    {
      "cell_type": "code",
      "execution_count": null,
      "id": "253c5c9f",
      "metadata": {},
      "outputs": [],
      "source": []
    }
  ],
  "metadata": {
    "colab": {
      "provenance": []
    },
    "kernelspec": {
      "display_name": "base",
      "language": "python",
      "name": "python3"
    },
    "language_info": {
      "codemirror_mode": {
        "name": "ipython",
        "version": 3
      },
      "file_extension": ".py",
      "mimetype": "text/x-python",
      "name": "python",
      "nbconvert_exporter": "python",
      "pygments_lexer": "ipython3",
      "version": "3.13.5"
    }
  },
  "nbformat": 4,
  "nbformat_minor": 5
}
