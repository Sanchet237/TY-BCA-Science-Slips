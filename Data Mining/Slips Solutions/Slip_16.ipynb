{
  "cells": [
    {
      "cell_type": "markdown",
      "id": "90000efc",
      "metadata": {
        "id": "90000efc"
      },
      "source": [
        "# **Slip 16 - Data Mining**"
      ]
    },
    {
      "cell_type": "markdown",
      "id": "0d0c38c5",
      "metadata": {
        "id": "0d0c38c5"
      },
      "source": [
        "Q1. Write a R program to create a simple bar plot of given data [10 Marks]\n",
        "\n",
        "Year Export Import\n",
        "\n",
        "2001 26 35\n",
        "\n",
        "2002 32 40\n",
        "\n",
        "2003 35 50\n",
        "\n"
      ]
    },
    {
      "cell_type": "code",
      "execution_count": null,
      "id": "24729d1a",
      "metadata": {
        "colab": {
          "base_uri": "https://localhost:8080/",
          "height": 437
        },
        "id": "24729d1a",
        "outputId": "3d8f6783-ca25-4d88-fcbb-018200a31303"
      },
      "outputs": [
        {
          "data": {
            "image/png": "[encoded data removed]",
            "text/plain": [
              "plot without title"
            ]
          },
          "metadata": {
            "image/png": {
              "height": 420,
              "width": 420
            }
          },
          "output_type": "display_data"
        }
      ],
      "source": [
        "year <- c(2001, 2002, 2003)\n",
        "export <- c(26, 32, 35)\n",
        "import <- c(35, 40, 50)\n",
        "\n",
        "barplot(rbind(export, import), beside = TRUE, names.arg = year, col = c(\"blue\", \"red\"), legend = c(\"Export\", \"Import\"))"
      ]
    },
    {
      "cell_type": "markdown",
      "id": "582cfb9d",
      "metadata": {
        "id": "582cfb9d"
      },
      "source": [
        "*Q2. Write a Python program build Decision Tree Classifier using Scikit-learnpackage for\n",
        "diabetes data set (download database from https://www.kaggle.com/uciml/pima-indians-\n",
        "diabetes-database)\n",
        "[20 Marks]*"
      ]
    },
    {
      "cell_type": "code",
      "execution_count": 1,
      "id": "f512c174",
      "metadata": {},
      "outputs": [
        {
          "name": "stdout",
          "output_type": "stream",
          "text": [
            "Accuracy: 1.0\n",
            "Confusion Matrix:\n",
            " [[2]]\n",
            "Classification Report:\n",
            "               precision    recall  f1-score   support\n",
            "\n",
            "           1       1.00      1.00      1.00         2\n",
            "\n",
            "    accuracy                           1.00         2\n",
            "   macro avg       1.00      1.00      1.00         2\n",
            "weighted avg       1.00      1.00      1.00         2\n",
            "\n"
          ]
        },
        {
          "name": "stderr",
          "output_type": "stream",
          "text": [
            "C:\\Users\\admin\\AppData\\Roaming\\Python\\Python313\\site-packages\\sklearn\\metrics\\_classification.py:534: UserWarning: A single label was found in 'y_true' and 'y_pred'. For the confusion matrix to have the correct shape, use the 'labels' parameter to pass all known labels.\n",
            "  warnings.warn(\n"
          ]
        }
      ],
      "source": [
        "import pandas as pd\n",
        "from sklearn.model_selection import train_test_split\n",
        "from sklearn.tree import DecisionTreeClassifier\n",
        "from sklearn.metrics import accuracy_score, confusion_matrix, classification_report\n",
        "\n",
        "df = pd.read_csv(\"Slip16.csv\")  \n",
        "\n",
        "X = df.drop('Outcome', axis=1)\n",
        "y = df['Outcome']\n",
        "\n",
        "X_train, X_test, y_train, y_test = train_test_split(X, y, test_size=0.2, random_state=42)\n",
        "\n",
        "clf = DecisionTreeClassifier(criterion='entropy', random_state=42)\n",
        "clf.fit(X_train, y_train)\n",
        "\n",
        "y_pred = clf.predict(X_test)\n",
        "\n",
        "print(\"Accuracy:\", accuracy_score(y_test, y_pred))\n",
        "print(\"Confusion Matrix:\\n\", confusion_matrix(y_test, y_pred))\n",
        "print(\"Classification Report:\\n\", classification_report(y_test, y_pred))\n"
      ]
    }
  ],
  "metadata": {
    "colab": {
      "provenance": []
    },
    "kernelspec": {
      "display_name": "base",
      "language": "python",
      "name": "python3"
    },
    "language_info": {
      "codemirror_mode": {
        "name": "ipython",
        "version": 3
      },
      "file_extension": ".py",
      "mimetype": "text/x-python",
      "name": "python",
      "nbconvert_exporter": "python",
      "pygments_lexer": "ipython3",
      "version": "3.13.5"
    }
  },
  "nbformat": 4,
  "nbformat_minor": 5
}
