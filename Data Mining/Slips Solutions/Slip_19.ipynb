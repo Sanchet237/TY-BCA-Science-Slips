{
  "cells": [
    {
      "cell_type": "markdown",
      "id": "a756e206",
      "metadata": {
        "id": "a756e206"
      },
      "source": [
        "# **Slip 19 - Data Mining**"
      ]
    },
    {
      "cell_type": "markdown",
      "id": "e461c688",
      "metadata": {
        "id": "e461c688"
      },
      "source": [
        "*Q1. Write a R program to create a Dataframes which contain details of 5 Studentsand display the\n",
        "details.\n",
        "Students contain (Rollno,Studname,Address,Marks) [10 Marks]*"
      ]
    },
    {
      "cell_type": "code",
      "execution_count": null,
      "id": "5007eefd",
      "metadata": {
        "colab": {
          "base_uri": "https://localhost:8080/"
        },
        "id": "5007eefd",
        "outputId": "b8f18d8c-0a26-4490-acca-6fb2ecdd6d7b"
      },
      "outputs": [
        {
          "name": "stdout",
          "output_type": "stream",
          "text": [
            "Students Data:\n",
            "  Rollno Studname     Address Marks\n",
            "1    101  Sanchet        Pune    85\n",
            "2    102   Gaurav West Bengal    90\n",
            "3    103  Ajinkya  Ranjangaon    78\n",
            "4    104    Rahil      Chakan    88\n",
            "5    105   Pranav     Jalgaon    92\n"
          ]
        }
      ],
      "source": [
        "students <- data.frame(\n",
        "  Rollno = 101:105,\n",
        "  Studname = c(\"Sanchet\", \"Gaurav\", \"Ajinkya\", \"Rahil\", \"Pranav\"),\n",
        "  Address = c(\"Pune\", \"West Bengal\", \"Ranjangaon\", \"Chakan\", \"Jalgaon\"),\n",
        "  Marks = c(85, 90, 78, 88, 92)\n",
        ")\n",
        "cat(\"Students Data:\\n\")\n",
        "print(students)"
      ]
    },
    {
      "cell_type": "markdown",
      "id": "fa3e447d",
      "metadata": {
        "id": "fa3e447d"
      },
      "source": [
        "*Q2. Write a python program to implement multiple Linear Regression modelfor a car dataset.\n",
        "Dataset can be downloaded from:\n",
        "https://www.w3schools.com/python/python_ml_multiple_regression.asp\n",
        "[20 Marks]*"
      ]
    },
    {
      "cell_type": "code",
      "execution_count": 1,
      "id": "75ec71c6",
      "metadata": {
        "id": "75ec71c6"
      },
      "outputs": [
        {
          "name": "stdout",
          "output_type": "stream",
          "text": [
            "Intercept: 13.297619047619122\n",
            "Coefficients: [0.03595238 0.03595238]\n",
            "MSE: 1.24702380952381\n",
            "R2: 0.9954269124564793\n"
          ]
        }
      ],
      "source": [
        "import pandas as pd\n",
        "from sklearn.linear_model import LinearRegression\n",
        "from sklearn.metrics import mean_squared_error, r2_score\n",
        "\n",
        "df = pd.read_csv(\"Slip19.csv\")\n",
        "X = df[['Weight', 'Volume']]\n",
        "y = df['CO2']\n",
        "\n",
        "lr = LinearRegression()\n",
        "lr.fit(X, y)\n",
        "\n",
        "print(\"Intercept:\", lr.intercept_)\n",
        "print(\"Coefficients:\", lr.coef_)\n",
        "\n",
        "y_pred = lr.predict(X)\n",
        "print(\"MSE:\", mean_squared_error(y, y_pred))\n",
        "print(\"R2:\", r2_score(y, y_pred))"
      ]
    }
  ],
  "metadata": {
    "colab": {
      "provenance": []
    },
    "kernelspec": {
      "display_name": "base",
      "language": "python",
      "name": "python3"
    },
    "language_info": {
      "codemirror_mode": {
        "name": "ipython",
        "version": 3
      },
      "file_extension": ".py",
      "mimetype": "text/x-python",
      "name": "python",
      "nbconvert_exporter": "python",
      "pygments_lexer": "ipython3",
      "version": "3.13.5"
    }
  },
  "nbformat": 4,
  "nbformat_minor": 5
}
