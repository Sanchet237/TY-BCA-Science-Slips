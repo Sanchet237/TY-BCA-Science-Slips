{
  "cells": [
    {
      "cell_type": "markdown",
      "id": "2071aa62",
      "metadata": {
        "id": "2071aa62"
      },
      "source": [
        "# **Slip 15 - Data Mining**"
      ]
    },
    {
      "cell_type": "markdown",
      "id": "d8e9415a",
      "metadata": {
        "id": "d8e9415a"
      },
      "source": [
        "*Q1.Write a R program to add, multiply and divide two vectors of integer type.(vector length\n",
        "should be minimum 4) [10 Marks]*"
      ]
    },
    {
      "cell_type": "code",
      "execution_count": null,
      "id": "66b93022",
      "metadata": {
        "colab": {
          "base_uri": "https://localhost:8080/"
        },
        "id": "66b93022",
        "outputId": "58b7dc2a-57ae-44a0-b410-3ab361b65382"
      },
      "outputs": [
        {
          "name": "stdout",
          "output_type": "stream",
          "text": [
            "Addition: 12 24 36 48 \n",
            "Multiplication: 20 80 180 320 \n",
            "Division: 5 5 5 5 \n"
          ]
        }
      ],
      "source": [
        "v1 <- c(10, 20, 30, 40)\n",
        "v2 <- c(2, 4, 6, 8)\n",
        "\n",
        "cat(\"Addition:\", v1 + v2, \"\\n\")\n",
        "cat(\"Multiplication:\", v1 * v2, \"\\n\")\n",
        "cat(\"Division:\", v1 / v2, \"\\n\")"
      ]
    },
    {
      "cell_type": "markdown",
      "id": "c60847c4",
      "metadata": {
        "id": "c60847c4"
      },
      "source": [
        "*Q2. Write a Python program build Decision Tree Classifier for shows.csvfrom pandas and\n",
        "predict class label for show starring a 40 years old American comedian, with 10\n",
        "years of experience, and a comedy ranking of 7? Create a csv file as shown in\n",
        "https://www.w3schools.com/python/python_ml_decision_tree.asp\n",
        "[20 Marks]*"
      ]
    },
    {
      "cell_type": "code",
      "execution_count": 2,
      "id": "7c4762ea",
      "metadata": {},
      "outputs": [
        {
          "name": "stdout",
          "output_type": "stream",
          "text": [
            "Predicted class for the new show: YES\n"
          ]
        },
        {
          "name": "stderr",
          "output_type": "stream",
          "text": [
            "C:\\Users\\admin\\AppData\\Roaming\\Python\\Python313\\site-packages\\sklearn\\utils\\validation.py:2749: UserWarning: X does not have valid feature names, but DecisionTreeClassifier was fitted with feature names\n",
            "  warnings.warn(\n"
          ]
        }
      ],
      "source": [
        "import pandas as pd\n",
        "from sklearn.preprocessing import LabelEncoder\n",
        "from sklearn.tree import DecisionTreeClassifier\n",
        "\n",
        "df = pd.read_csv(\"Slip15.csv\")\n",
        "\n",
        "le = LabelEncoder()\n",
        "df['Nationality'] = le.fit_transform(df['Nationality'])\n",
        "\n",
        "X = df[['Age', 'Experience', 'Rank', 'Nationality']]\n",
        "y = df['Go']\n",
        "\n",
        "\n",
        "clf = DecisionTreeClassifier(criterion='entropy', random_state=42)\n",
        "clf.fit(X, y)\n",
        "\n",
        "# Predict for a new show: 40 years old, 10 years experience, rank 7, American\n",
        "new_show = [[40, 10, 7, le.transform(['USA'])[0]]]\n",
        "prediction = clf.predict(new_show)\n",
        "\n",
        "print(\"Predicted class for the new show:\", prediction[0])\n"
      ]
    }
  ],
  "metadata": {
    "colab": {
      "provenance": []
    },
    "kernelspec": {
      "display_name": "base",
      "language": "python",
      "name": "python3"
    },
    "language_info": {
      "codemirror_mode": {
        "name": "ipython",
        "version": 3
      },
      "file_extension": ".py",
      "mimetype": "text/x-python",
      "name": "python",
      "nbconvert_exporter": "python",
      "pygments_lexer": "ipython3",
      "version": "3.13.5"
    }
  },
  "nbformat": 4,
  "nbformat_minor": 5
}
