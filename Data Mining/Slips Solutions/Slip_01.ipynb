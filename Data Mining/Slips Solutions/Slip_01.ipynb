{
  "cells": [
    {
      "cell_type": "markdown",
      "id": "126552be",
      "metadata": {
        "id": "126552be"
      },
      "source": [
        "# **Slip 01 - Data Mining**"
      ]
    },
    {
      "cell_type": "markdown",
      "id": "1f1e89a0",
      "metadata": {
        "id": "1f1e89a0"
      },
      "source": [
        "*Q1.Write a R program to add, multiply and divide two vectors of integer type. (Vector length should be minimum 4) [10 Marks]*"
      ]
    },
    {
      "cell_type": "code",
      "execution_count": null,
      "id": "5ba182f5",
      "metadata": {
        "colab": {
          "base_uri": "https://localhost:8080/"
        },
        "id": "5ba182f5",
        "outputId": "62ffce27-5ac1-49b4-e8e6-1adbb46a5811"
      },
      "outputs": [
        {
          "name": "stdout",
          "output_type": "stream",
          "text": [
            "Addition:  12 24 36 48 \n",
            "Multiplication:  20 80 180 320 \n",
            "Division:  5 5 5 5 \n"
          ]
        }
      ],
      "source": [
        "v1 <- c(10L, 20L, 30L, 40L)\n",
        "v2 <- c(2L, 4L, 6L, 8L)\n",
        "\n",
        "cat(\"Addition: \", v1 + v2, \"\\n\")\n",
        "cat(\"Multiplication: \", v1 * v2, \"\\n\")\n",
        "cat(\"Division: \", v1 / v2, \"\\n\")"
      ]
    },
    {
      "cell_type": "markdown",
      "id": "c84eb991",
      "metadata": {
        "id": "c84eb991"
      },
      "source": [
        "\n",
        "*Q2.Consider the student data set. It can be downloaded from:\n",
        "https://drive.google.com/open?id=1oakZCv7g3mlmCSdv9J8kdSaqO 5_6dIOw .\n",
        "Write a programme in python to apply simple linear regression and find out mean\n",
        "absolute error, mean squared error and root mean squared error. [20 Marks]*"
      ]
    },
    {
      "cell_type": "code",
      "execution_count": null,
      "id": "2718c93c",
      "metadata": {
        "id": "2718c93c"
      },
      "outputs": [
        {
          "name": "stdout",
          "output_type": "stream",
          "text": [
            "Intercept: 60.70645475186507\n",
            "Slope: 0.10768731754784296\n",
            "MAE : 9.703211157963024\n",
            "MSE : 117.73090338035513\n",
            "RMSE: 10.850387245640366\n"
          ]
        }
      ],
      "source": [
        "import numpy as np\n",
        "import pandas as pd\n",
        "from sklearn.linear_model import LinearRegression\n",
        "from sklearn.model_selection import train_test_split\n",
        "from sklearn.metrics import mean_absolute_error, mean_squared_error\n",
        "\n",
        "df = pd.read_csv(\"Slip1.csv\")\n",
        "\n",
        "X = df[[\"hours\"]]\n",
        "y = df[\"score\"]\n",
        "\n",
        "X_train, X_test, y_train, y_test = train_test_split(X, y, test_size=0.2, random_state=1)\n",
        "\n",
        "model = LinearRegression().fit(X_train, y_train)\n",
        "y_pred = model.predict(X_test)\n",
        "\n",
        "print(\"Intercept:\", model.intercept_)      \n",
        "print(\"Slope:\", model.coef_[0])           \n",
        "print(\"MAE :\", mean_absolute_error(y_test, y_pred))   \n",
        "print(\"MSE :\", mean_squared_error(y_test, y_pred))    \n",
        "print(\"RMSE:\", np.sqrt(mean_squared_error(y_test, y_pred)))"
      ]
    }
  ],
  "metadata": {
    "colab": {
      "provenance": []
    },
    "kernelspec": {
      "display_name": "base",
      "language": "python",
      "name": "python3"
    },
    "language_info": {
      "codemirror_mode": {
        "name": "ipython",
        "version": 3
      },
      "file_extension": ".py",
      "mimetype": "text/x-python",
      "name": "python",
      "nbconvert_exporter": "python",
      "pygments_lexer": "ipython3",
      "version": "3.13.5"
    }
  },
  "nbformat": 4,
  "nbformat_minor": 5
}
