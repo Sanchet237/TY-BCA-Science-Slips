{
  "cells": [
    {
      "cell_type": "markdown",
      "id": "5d38199f",
      "metadata": {
        "id": "5d38199f"
      },
      "source": [
        "# **Slip 11 - Data Mining**\n"
      ]
    },
    {
      "cell_type": "markdown",
      "id": "b28e307d",
      "metadata": {
        "id": "b28e307d"
      },
      "source": [
        "Q1. Write a R program to find all elements of a given list that are not inanother given list.\n",
        "\n",
        "AB st(\"x\", \"y\", \"z\")\n",
        "st(\"X\", \"Y\", \"Z\", \" x\", \"y\", \"z\")\n",
        "\n",
        "[10 Marks]"
      ]
    },
    {
      "cell_type": "code",
      "execution_count": null,
      "id": "a4c60ec1",
      "metadata": {
        "colab": {
          "base_uri": "https://localhost:8080/"
        },
        "id": "a4c60ec1",
        "outputId": "2adaf3a7-66e0-440e-ad62-e8138a3950e8"
      },
      "outputs": [
        {
          "name": "stdout",
          "output_type": "stream",
          "text": [
            "Elements in l1 but not in l2: w \n"
          ]
        }
      ],
      "source": [
        "l1 <- c(\"x\", \"y\", \"z\", \"w\")\n",
        "l2 <- c(\"X\", \"Y\", \"Z\", \"x\", \"y\", \"z\")\n",
        "cat(\"Elements in l1 but not in l2:\", setdiff(l1, l2), \"\\n\")"
      ]
    },
    {
      "cell_type": "markdown",
      "id": "e9dd1c54",
      "metadata": {
        "id": "e9dd1c54"
      },
      "source": [
        "*Q2. Write a python program to implement hierarchical clustering algorithm.(Download\n",
        "Wholesale customers data dataset from github.com).\n",
        "[20 Marks]*"
      ]
    },
    {
      "cell_type": "code",
      "execution_count": 1,
      "id": "53cb7c8e",
      "metadata": {
        "id": "53cb7c8e"
      },
      "outputs": [
        {
          "data": {
            "image/png": "[encoded data removed]",
            "text/plain": [
              "<Figure size 800x500 with 1 Axes>"
            ]
          },
          "metadata": {},
          "output_type": "display_data"
        },
        {
          "name": "stdout",
          "output_type": "stream",
          "text": [
            "Cluster labels: [0 0 0 2 1]\n"
          ]
        }
      ],
      "source": [
        "import pandas as pd\n",
        "import matplotlib.pyplot as plt\n",
        "from sklearn.preprocessing import StandardScaler\n",
        "from scipy.cluster.hierarchy import dendrogram, linkage\n",
        "from sklearn.cluster import AgglomerativeClustering\n",
        "\n",
        "df = pd.read_csv(\"Slip11.csv\")\n",
        "X = df.select_dtypes(include=\"number\")\n",
        "X_scaled = StandardScaler().fit_transform(X)\n",
        "\n",
        "\n",
        "Z = linkage(X_scaled, method='ward')\n",
        "plt.figure(figsize=(8,5))\n",
        "dendrogram(Z)\n",
        "plt.title(\"Dendrogram\")\n",
        "plt.show()\n",
        "\n",
        "model = AgglomerativeClustering(n_clusters=3, linkage='ward')\n",
        "labels = model.fit_predict(X_scaled)\n",
        "\n",
        "print(\"Cluster labels:\", labels)\n"
      ]
    }
  ],
  "metadata": {
    "colab": {
      "provenance": []
    },
    "kernelspec": {
      "display_name": "base",
      "language": "python",
      "name": "python3"
    },
    "language_info": {
      "codemirror_mode": {
        "name": "ipython",
        "version": 3
      },
      "file_extension": ".py",
      "mimetype": "text/x-python",
      "name": "python",
      "nbconvert_exporter": "python",
      "pygments_lexer": "ipython3",
      "version": "3.13.5"
    }
  },
  "nbformat": 4,
  "nbformat_minor": 5
}
