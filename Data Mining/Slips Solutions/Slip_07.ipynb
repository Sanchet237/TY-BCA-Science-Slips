{
  "cells": [
    {
      "cell_type": "markdown",
      "id": "f008939d",
      "metadata": {
        "id": "f008939d"
      },
      "source": [
        "# **Slip 07 - Data Mining**\n"
      ]
    },
    {
      "cell_type": "markdown",
      "id": "0a9dd983",
      "metadata": {
        "id": "0a9dd983"
      },
      "source": [
        "*Q1. Write a R program to create a sequence of numbers from 20 to 50 and find the mean of\n",
        "numbers from 20 to 60 and sum of numbers from 51 to 91.\n",
        "[10 Marks]*"
      ]
    },
    {
      "cell_type": "code",
      "execution_count": null,
      "id": "1dd7c0f5",
      "metadata": {
        "colab": {
          "base_uri": "https://localhost:8080/"
        },
        "id": "1dd7c0f5",
        "outputId": "d9ec54f2-2ced-49f2-e4e9-704adb70b07a"
      },
      "outputs": [
        {
          "name": "stdout",
          "output_type": "stream",
          "text": [
            "Sequence 20-50: 20 21 22 23 24 25 26 27 28 29 30 31 32 33 34 35 36 37 38 39 40 41 42 43 44 45 46 47 48 49 50 \n",
            "Mean of 20-60: 40 \n",
            "Sum of 51-91: 2911 \n"
          ]
        }
      ],
      "source": [
        "cat(\"Sequence 20-50:\", 20:50, \"\\n\")\n",
        "cat(\"Mean of 20-60:\", mean(20:60), \"\\n\")\n",
        "cat(\"Sum of 51-91:\", sum(51:91), \"\\n\")"
      ]
    },
    {
      "cell_type": "markdown",
      "id": "8c49a883",
      "metadata": {
        "id": "8c49a883"
      },
      "source": [
        "*Q2. Consider the following observations/data. And apply simple linear regression and find out\n",
        "estimated coefficients b1 and b1 Also analyse the performance of the model\n",
        "(Use sklearn package)\n",
        "x = np.array([1,2,3,4,5,6,7,8])\n",
        "y = np.array([7,14,15,18,19,21,26,23]) [20 Marks]*"
      ]
    },
    {
      "cell_type": "code",
      "execution_count": 4,
      "id": "182b51ba",
      "metadata": {},
      "outputs": [
        {
          "name": "stdout",
          "output_type": "stream",
          "text": [
            "b0 (Intercept): 7.642857142857139\n",
            "b1 (Slope): 2.2738095238095246\n",
            "Mean Squared Error: 3.4657738095238106\n",
            "R^2 Score: 0.886774107294781\n"
          ]
        }
      ],
      "source": [
        "import pandas as pd\n",
        "from sklearn.linear_model import LinearRegression\n",
        "from sklearn.metrics import mean_squared_error, r2_score\n",
        "\n",
        "df = pd.read_csv(\"Slip7.csv\")  \n",
        "X = df[['x']]\n",
        "y = df['y']\n",
        "\n",
        "model = LinearRegression()\n",
        "model.fit(X, y)\n",
        "\n",
        "print(\"b0 (Intercept):\", model.intercept_)\n",
        "print(\"b1 (Slope):\", model.coef_[0])\n",
        "\n",
        "y_pred = model.predict(X)\n",
        "print(\"Mean Squared Error:\", mean_squared_error(y, y_pred))\n",
        "print(\"R^2 Score:\", r2_score(y, y_pred))\n"
      ]
    }
  ],
  "metadata": {
    "colab": {
      "provenance": []
    },
    "kernelspec": {
      "display_name": "base",
      "language": "python",
      "name": "python3"
    },
    "language_info": {
      "codemirror_mode": {
        "name": "ipython",
        "version": 3
      },
      "file_extension": ".py",
      "mimetype": "text/x-python",
      "name": "python",
      "nbconvert_exporter": "python",
      "pygments_lexer": "ipython3",
      "version": "3.13.5"
    }
  },
  "nbformat": 4,
  "nbformat_minor": 5
}
