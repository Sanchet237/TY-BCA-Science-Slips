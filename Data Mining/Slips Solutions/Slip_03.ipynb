{
  "cells": [
    {
      "cell_type": "markdown",
      "id": "b76d8197",
      "metadata": {
        "id": "b76d8197"
      },
      "source": [
        "# **Slip 03 - Data Mining**\n"
      ]
    },
    {
      "cell_type": "markdown",
      "id": "98673da4",
      "metadata": {
        "id": "98673da4"
      },
      "source": [
        "*Q1. Write a R program to reverse a number and also calculate the sum of digits of that\n",
        "number. [10 Marks]*"
      ]
    },
    {
      "cell_type": "code",
      "execution_count": null,
      "id": "14d786c8",
      "metadata": {
        "colab": {
          "base_uri": "https://localhost:8080/"
        },
        "id": "14d786c8",
        "outputId": "a77a2cf3-480b-483f-89eb-072e047fb72d"
      },
      "outputs": [
        {
          "name": "stdout",
          "output_type": "stream",
          "text": [
            "Enter a number: 237\n",
            "Reversed Number: 732 \n",
            "Sum of Digits: 12 \n"
          ]
        }
      ],
      "source": [
        "num <- as.integer(readline(\"Enter a number: \"))\n",
        "\n",
        "org_num <- num\n",
        "rev_num <- 0\n",
        "total <- 0\n",
        "\n",
        "while(num > 0) {\n",
        "  digit <- num %% 10\n",
        "  rev_num <- rev_num * 10 + digit\n",
        "  total <- total + digit\n",
        "  num <- num %/% 10\n",
        "}\n",
        "\n",
        "cat(\"Reversed Number:\", rev_num, \"\\n\")\n",
        "cat(\"Sum of Digits:\", total, \"\\n\")"
      ]
    },
    {
      "cell_type": "markdown",
      "id": "3d8443a6",
      "metadata": {
        "id": "3d8443a6"
      },
      "source": [
        "*Q2. Consider the following observations/data. And apply simple linear regression and find out estimated coefficients b0 and b1.( use numpy package)*\n",
        "\n",
        "*x=[0,1,2,3,4,5,6,7,8,9,11,13]*\n",
        "\n",
        "*y = [1, 3, 2, 5, 7, 8, 8, 9, 10, 12,16, 18] [20 Marks]*"
      ]
    },
    {
      "cell_type": "code",
      "execution_count": 1,
      "id": "574b90a2",
      "metadata": {
        "id": "574b90a2"
      },
      "outputs": [
        {
          "name": "stdout",
          "output_type": "stream",
          "text": [
            "Estimated Coefficients:\n",
            "b0 (Intercept): 0.838709677419355\n",
            "b1 (Slope): 1.2889200561009817\n"
          ]
        }
      ],
      "source": [
        "import numpy as np\n",
        "\n",
        "x = np.array([0,1,2,3,4,5,6,7,8,9,11,13])\n",
        "y = np.array([1,3,2,5,7,8,8,9,10,12,16,18])\n",
        "\n",
        "# Mean of x and y\n",
        "x_mean = np.mean(x)\n",
        "y_mean = np.mean(y)\n",
        "\n",
        "# Calculate coefficients\n",
        "b1 = np.sum((x - x_mean) * (y - y_mean)) / np.sum((x - x_mean)**2)\n",
        "b0 = y_mean - b1 * x_mean\n",
        "\n",
        "print(\"Estimated Coefficients:\")\n",
        "print(\"b0 (Intercept):\", b0)\n",
        "print(\"b1 (Slope):\", b1)"
      ]
    }
  ],
  "metadata": {
    "colab": {
      "provenance": []
    },
    "kernelspec": {
      "display_name": "base",
      "language": "python",
      "name": "python3"
    },
    "language_info": {
      "codemirror_mode": {
        "name": "ipython",
        "version": 3
      },
      "file_extension": ".py",
      "mimetype": "text/x-python",
      "name": "python",
      "nbconvert_exporter": "python",
      "pygments_lexer": "ipython3",
      "version": "3.13.5"
    }
  },
  "nbformat": 4,
  "nbformat_minor": 5
}
