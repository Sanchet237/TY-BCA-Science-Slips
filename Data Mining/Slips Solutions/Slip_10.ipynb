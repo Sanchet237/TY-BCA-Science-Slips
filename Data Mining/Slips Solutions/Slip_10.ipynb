{
  "cells": [
    {
      "cell_type": "markdown",
      "id": "de0af9b8",
      "metadata": {
        "id": "de0af9b8"
      },
      "source": [
        "# **Slip 10 - Data Mining**\n"
      ]
    },
    {
      "cell_type": "markdown",
      "id": "f6b3de82",
      "metadata": {
        "id": "f6b3de82"
      },
      "source": [
        "*Q1. Write a R program to find the maximum and the minimum value of a givenvector [10\n",
        "Marks]*"
      ]
    },
    {
      "cell_type": "code",
      "execution_count": null,
      "id": "21466baa",
      "metadata": {
        "colab": {
          "base_uri": "https://localhost:8080/"
        },
        "id": "21466baa",
        "outputId": "ebedb158-3c80-4365-ebef-02d71904172b"
      },
      "outputs": [
        {
          "name": "stdout",
          "output_type": "stream",
          "text": [
            "Max Value: 89 \n",
            "Min Value: 12 \n"
          ]
        }
      ],
      "source": [
        "v <- c(45, 12, 67, 89, 23, 56)\n",
        "cat(\"Max Value:\", max(v), \"\\n\")\n",
        "cat(\"Min Value:\", min(v), \"\\n\")"
      ]
    },
    {
      "cell_type": "markdown",
      "id": "8c1c798a",
      "metadata": {
        "id": "8c1c798a"
      },
      "source": [
        "*Q2. Write a Python Programme to read the dataset (“Iris.csv”). dataset download from\n",
        "(https://archive.ics.uci.edu/ml/datasets/iris) and apply Apriori algorithm. [20 Marks]*"
      ]
    },
    {
      "cell_type": "code",
      "execution_count": null,
      "id": "6076dda2",
      "metadata": {},
      "outputs": [
        {
          "name": "stdout",
          "output_type": "stream",
          "text": [
            "Frequent Itemsets:\n",
            "     support                                           itemsets\n",
            "0   0.346667                                  (sepallength_Low)\n",
            "1   0.373333                                  (sepallength_Med)\n",
            "2   0.380000                                   (sepalwidth_Low)\n",
            "3   0.340000                                   (sepalwidth_Med)\n",
            "4   0.333333                                  (petallength_Low)\n",
            "5   0.360000                                  (petallength_Med)\n",
            "6   0.306667                                 (petallength_High)\n",
            "7   0.333333                                   (petalwidth_Low)\n",
            "8   0.346667                                   (petalwidth_Med)\n",
            "9   0.320000                                  (petalwidth_High)\n",
            "10  0.333333                                (class_Iris-setosa)\n",
            "11  0.333333                            (class_Iris-versicolor)\n",
            "12  0.333333                             (class_Iris-virginica)\n",
            "13  0.300000                 (petallength_Low, sepallength_Low)\n",
            "14  0.300000                  (petalwidth_Low, sepallength_Low)\n",
            "15  0.300000               (sepallength_Low, class_Iris-setosa)\n",
            "16  0.333333                  (petallength_Low, petalwidth_Low)\n",
            "17  0.333333               (petallength_Low, class_Iris-setosa)\n",
            "18  0.313333                  (petallength_Med, petalwidth_Med)\n",
            "19  0.320000           (class_Iris-versicolor, petallength_Med)\n",
            "20  0.333333                (petalwidth_Low, class_Iris-setosa)\n",
            "21  0.320000            (class_Iris-versicolor, petalwidth_Med)\n",
            "22  0.306667            (petalwidth_High, class_Iris-virginica)\n",
            "23  0.300000  (petallength_Low, petalwidth_Low, sepallength_...\n",
            "24  0.300000  (petallength_Low, sepallength_Low, class_Iris-...\n",
            "25  0.300000  (petalwidth_Low, sepallength_Low, class_Iris-s...\n",
            "26  0.333333  (petallength_Low, petalwidth_Low, class_Iris-s...\n",
            "27  0.313333  (class_Iris-versicolor, petallength_Med, petal...\n",
            "28  0.300000  (petallength_Low, petalwidth_Low, sepallength_...\n",
            "\n",
            "Association Rules:\n",
            "                           antecedents  \\\n",
            "0                      petallength_Low   \n",
            "1                      sepallength_Low   \n",
            "2                       petalwidth_Low   \n",
            "3                      sepallength_Low   \n",
            "4                      sepallength_Low   \n",
            "..                                 ...   \n",
            "59  sepallength_Low, class_Iris-setosa   \n",
            "60                     petallength_Low   \n",
            "61                      petalwidth_Low   \n",
            "62                     sepallength_Low   \n",
            "63                   class_Iris-setosa   \n",
            "\n",
            "                                          consequents  support  confidence  \\\n",
            "0                                     sepallength_Low      0.3    0.900000   \n",
            "1                                     petallength_Low      0.3    0.865385   \n",
            "2                                     sepallength_Low      0.3    0.900000   \n",
            "3                                      petalwidth_Low      0.3    0.865385   \n",
            "4                                   class_Iris-setosa      0.3    0.865385   \n",
            "..                                                ...      ...         ...   \n",
            "59                    petallength_Low, petalwidth_Low      0.3    1.000000   \n",
            "60  petalwidth_Low, sepallength_Low, class_Iris-se...      0.3    0.900000   \n",
            "61  petallength_Low, sepallength_Low, class_Iris-s...      0.3    0.900000   \n",
            "62  petallength_Low, petalwidth_Low, class_Iris-se...      0.3    0.865385   \n",
            "63   petallength_Low, petalwidth_Low, sepallength_Low      0.3    0.900000   \n",
            "\n",
            "        lift  \n",
            "0   2.596154  \n",
            "1   2.596154  \n",
            "2   2.596154  \n",
            "3   2.596154  \n",
            "4   2.596154  \n",
            "..       ...  \n",
            "59  3.000000  \n",
            "60  3.000000  \n",
            "61  3.000000  \n",
            "62  2.596154  \n",
            "63  3.000000  \n",
            "\n",
            "[64 rows x 5 columns]\n"
          ]
        }
      ],
      "source": [
        "import pandas as pd\n",
        "from mlxtend.frequent_patterns import apriori, association_rules\n",
        "\n",
        "data = pd.read_csv(\"Slip10.csv\")\n",
        "\n",
        "# Convert numeric values into categories (Low/Med/High)\n",
        "for col in data.columns[:-1]:   \n",
        "    data[col] = pd.qcut(data[col], q=3, labels=[\"Low\", \"Med\", \"High\"])\n",
        "\n",
        "data_encoded = pd.get_dummies(data)\n",
        "\n",
        "frequent_itemsets = apriori(data_encoded, min_support=0.3, use_colnames=True)\n",
        "\n",
        "rules = association_rules(frequent_itemsets, metric=\"confidence\", min_threshold=0.6)\n",
        "\n",
        "rules[\"antecedents\"] = rules[\"antecedents\"].apply(lambda x: ', '.join(list(x)))\n",
        "rules[\"consequents\"] = rules[\"consequents\"].apply(lambda x: ', '.join(list(x)))\n",
        "\n",
        "print(\"Frequent Itemsets:\")\n",
        "print(frequent_itemsets)\n",
        "\n",
        "print(\"\\nAssociation Rules:\")\n",
        "print(rules[['antecedents','consequents','support','confidence','lift']])\n"
      ]
    },
    {
      "cell_type": "code",
      "execution_count": null,
      "id": "4834e19b",
      "metadata": {},
      "outputs": [],
      "source": []
    }
  ],
  "metadata": {
    "colab": {
      "provenance": []
    },
    "kernelspec": {
      "display_name": "base",
      "language": "python",
      "name": "python3"
    },
    "language_info": {
      "codemirror_mode": {
        "name": "ipython",
        "version": 3
      },
      "file_extension": ".py",
      "mimetype": "text/x-python",
      "name": "python",
      "nbconvert_exporter": "python",
      "pygments_lexer": "ipython3",
      "version": "3.13.5"
    }
  },
  "nbformat": 4,
  "nbformat_minor": 5
}
