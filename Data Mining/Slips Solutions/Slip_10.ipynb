{
  "cells": [
    {
      "cell_type": "markdown",
      "id": "de0af9b8",
      "metadata": {
        "id": "de0af9b8"
      },
      "source": [
        "# **Slip 10 - Data Mining**\n"
      ]
    },
    {
      "cell_type": "markdown",
      "id": "f6b3de82",
      "metadata": {
        "id": "f6b3de82"
      },
      "source": [
        "*Q1. Write a R program to find the maximum and the minimum value of a givenvector [10\n",
        "Marks]*"
      ]
    },
    {
      "cell_type": "code",
      "execution_count": null,
      "id": "21466baa",
      "metadata": {
        "colab": {
          "base_uri": "https://localhost:8080/"
        },
        "id": "21466baa",
        "outputId": "ebedb158-3c80-4365-ebef-02d71904172b"
      },
      "outputs": [
        {
          "name": "stdout",
          "output_type": "stream",
          "text": [
            "Max Value: 89 \n",
            "Min Value: 12 \n"
          ]
        }
      ],
      "source": [
        "v <- c(45, 12, 67, 89, 23, 56)\n",
        "cat(\"Max Value:\", max(v), \"\\n\")\n",
        "cat(\"Min Value:\", min(v), \"\\n\")"
      ]
    },
    {
      "cell_type": "markdown",
      "id": "8c1c798a",
      "metadata": {
        "id": "8c1c798a"
      },
      "source": [
        "*Q2. Write a Python Programme to read the dataset (“Iris.csv”). dataset download from\n",
        "(https://archive.ics.uci.edu/ml/datasets/iris) and apply Apriori algorithm. [20 Marks]*"
      ]
    },
    {
      "cell_type": "code",
      "execution_count": 3,
      "id": "6076dda2",
      "metadata": {},
      "outputs": [
        {
          "name": "stdout",
          "output_type": "stream",
          "text": [
            "Frequent Itemsets:\n",
            "     support                                     itemsets\n",
            "0   0.342282                                    (5.1_Low)\n",
            "1   0.375839                                    (5.1_Med)\n",
            "2   0.382550                                    (3.5_Low)\n",
            "3   0.342282                                    (3.5_Med)\n",
            "4   0.335570                                    (1.4_Low)\n",
            "5   0.355705                                    (1.4_Med)\n",
            "6   0.308725                                   (1.4_High)\n",
            "7   0.375839                                    (0.2_Low)\n",
            "8   0.302013                                    (0.2_Med)\n",
            "9   0.322148                                   (0.2_High)\n",
            "10  0.328859                    (Iris-setosa_Iris-setosa)\n",
            "11  0.335570                (Iris-setosa_Iris-versicolor)\n",
            "12  0.335570                 (Iris-setosa_Iris-virginica)\n",
            "13  0.302013                           (1.4_Low, 5.1_Low)\n",
            "14  0.315436                           (0.2_Low, 5.1_Low)\n",
            "15  0.328859                           (0.2_Low, 1.4_Low)\n",
            "16  0.328859           (Iris-setosa_Iris-setosa, 1.4_Low)\n",
            "17  0.315436       (1.4_Med, Iris-setosa_Iris-versicolor)\n",
            "18  0.328859           (Iris-setosa_Iris-setosa, 0.2_Low)\n",
            "19  0.308725       (Iris-setosa_Iris-virginica, 0.2_High)\n",
            "20  0.328859  (Iris-setosa_Iris-setosa, 0.2_Low, 1.4_Low)\n",
            "\n",
            "Association Rules:\n",
            "                         antecedents                       consequents  \\\n",
            "0                            1.4_Low                           5.1_Low   \n",
            "1                            5.1_Low                           1.4_Low   \n",
            "2                            0.2_Low                           5.1_Low   \n",
            "3                            5.1_Low                           0.2_Low   \n",
            "4                            0.2_Low                           1.4_Low   \n",
            "5                            1.4_Low                           0.2_Low   \n",
            "6            Iris-setosa_Iris-setosa                           1.4_Low   \n",
            "7                            1.4_Low           Iris-setosa_Iris-setosa   \n",
            "8                            1.4_Med       Iris-setosa_Iris-versicolor   \n",
            "9        Iris-setosa_Iris-versicolor                           1.4_Med   \n",
            "10           Iris-setosa_Iris-setosa                           0.2_Low   \n",
            "11                           0.2_Low           Iris-setosa_Iris-setosa   \n",
            "12        Iris-setosa_Iris-virginica                          0.2_High   \n",
            "13                          0.2_High        Iris-setosa_Iris-virginica   \n",
            "14  0.2_Low, Iris-setosa_Iris-setosa                           1.4_Low   \n",
            "15  Iris-setosa_Iris-setosa, 1.4_Low                           0.2_Low   \n",
            "16                  0.2_Low, 1.4_Low           Iris-setosa_Iris-setosa   \n",
            "17           Iris-setosa_Iris-setosa                  0.2_Low, 1.4_Low   \n",
            "18                           0.2_Low  Iris-setosa_Iris-setosa, 1.4_Low   \n",
            "19                           1.4_Low  0.2_Low, Iris-setosa_Iris-setosa   \n",
            "\n",
            "     support  confidence      lift  \n",
            "0   0.302013    0.900000  2.629412  \n",
            "1   0.302013    0.882353  2.629412  \n",
            "2   0.315436    0.839286  2.452031  \n",
            "3   0.315436    0.921569  2.452031  \n",
            "4   0.328859    0.875000  2.607500  \n",
            "5   0.328859    0.980000  2.607500  \n",
            "6   0.328859    1.000000  2.980000  \n",
            "7   0.328859    0.980000  2.980000  \n",
            "8   0.315436    0.886792  2.642642  \n",
            "9   0.315436    0.940000  2.642642  \n",
            "10  0.328859    1.000000  2.660714  \n",
            "11  0.328859    0.875000  2.660714  \n",
            "12  0.308725    0.920000  2.855833  \n",
            "13  0.308725    0.958333  2.855833  \n",
            "14  0.328859    1.000000  2.980000  \n",
            "15  0.328859    1.000000  2.660714  \n",
            "16  0.328859    1.000000  3.040816  \n",
            "17  0.328859    1.000000  3.040816  \n",
            "18  0.328859    0.875000  2.660714  \n",
            "19  0.328859    0.980000  2.980000  \n"
          ]
        }
      ],
      "source": [
        "import pandas as pd\n",
        "from mlxtend.frequent_patterns import apriori, association_rules\n",
        "\n",
        "data = pd.read_csv(\"iris.csv\")\n",
        "\n",
        "# Convert numeric values into categories (Low/Med/High)\n",
        "for col in data.columns[:-1]:   \n",
        "    data[col] = pd.qcut(data[col], q=3, labels=[\"Low\", \"Med\", \"High\"])\n",
        "\n",
        "data_encoded = pd.get_dummies(data)\n",
        "\n",
        "frequent_itemsets = apriori(data_encoded, min_support=0.3, use_colnames=True)\n",
        "\n",
        "rules = association_rules(frequent_itemsets, metric=\"confidence\", min_threshold=0.6)\n",
        "\n",
        "rules[\"antecedents\"] = rules[\"antecedents\"].apply(lambda x: ', '.join(list(x)))\n",
        "rules[\"consequents\"] = rules[\"consequents\"].apply(lambda x: ', '.join(list(x)))\n",
        "\n",
        "print(\"Frequent Itemsets:\")\n",
        "print(frequent_itemsets)\n",
        "\n",
        "print(\"\\nAssociation Rules:\")\n",
        "print(rules[['antecedents','consequents','support','confidence','lift']])\n"
      ]
    }
  ],
  "metadata": {
    "colab": {
      "provenance": []
    },
    "kernelspec": {
      "display_name": "base",
      "language": "python",
      "name": "python3"
    },
    "language_info": {
      "codemirror_mode": {
        "name": "ipython",
        "version": 3
      },
      "file_extension": ".py",
      "mimetype": "text/x-python",
      "name": "python",
      "nbconvert_exporter": "python",
      "pygments_lexer": "ipython3",
      "version": "3.13.5"
    }
  },
  "nbformat": 4,
  "nbformat_minor": 5
}
